{
 "cells": [
  {
   "cell_type": "markdown",
   "metadata": {},
   "source": [
    "#### Selecting most popular movies\n",
    "SELECT ratings.movie_id, movie_names.name, count(ratings.movie_id) as ratingCount\n",
    "FROM ratings, movie_names\n",
    "where ratings.movie_id = movie_names.movie_id\n",
    "GROUP BY ratings.movie_id, name\n",
    "ORDER BY ratingCount\n",
    "DESC;"
   ]
  },
  {
   "cell_type": "code",
   "execution_count": null,
   "metadata": {},
   "outputs": [],
   "source": []
  }
 ],
 "metadata": {
  "kernelspec": {
   "display_name": "Python 3",
   "language": "python",
   "name": "python3"
  },
  "language_info": {
   "codemirror_mode": {
    "name": "ipython",
    "version": 3
   },
   "file_extension": ".py",
   "mimetype": "text/x-python",
   "name": "python",
   "nbconvert_exporter": "python",
   "pygments_lexer": "ipython3",
   "version": "3.7.0"
  }
 },
 "nbformat": 4,
 "nbformat_minor": 2
}
